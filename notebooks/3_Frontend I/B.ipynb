{
 "cells": [
  {
   "attachments": {},
   "cell_type": "markdown",
   "id": "5134d1cc",
   "metadata": {},
   "source": [
    "# Simulate app form prediction process"
   ]
  },
  {
   "attachments": {},
   "cell_type": "markdown",
   "id": "380ecbe3",
   "metadata": {},
   "source": [
    "## Load pipeline artifact"
   ]
  },
  {
   "cell_type": "code",
   "execution_count": 15,
   "id": "05af2f5a",
   "metadata": {
    "execution": {
     "iopub.execute_input": "2024-05-10T12:10:24.427542Z",
     "iopub.status.busy": "2024-05-10T12:10:24.427382Z",
     "iopub.status.idle": "2024-05-10T12:10:24.717380Z",
     "shell.execute_reply": "2024-05-10T12:10:24.716981Z"
    },
    "papermill": {
     "duration": 0.292911,
     "end_time": "2024-05-10T12:10:24.718385",
     "exception": false,
     "start_time": "2024-05-10T12:10:24.425474",
     "status": "completed"
    },
    "tags": []
   },
   "outputs": [],
   "source": [
    "import pickle\n",
    "\n",
    "path = '../../artifacts/pipeline.pkl'\n",
    "\n",
    "with open(path, 'rb') as file:\n",
    "    pipeline = pickle.load(file)"
   ]
  },
  {
   "cell_type": "code",
   "execution_count": 16,
   "id": "631c2db9",
   "metadata": {
    "execution": {
     "iopub.execute_input": "2024-05-10T12:10:24.720830Z",
     "iopub.status.busy": "2024-05-10T12:10:24.720647Z",
     "iopub.status.idle": "2024-05-10T12:10:24.723949Z",
     "shell.execute_reply": "2024-05-10T12:10:24.723702Z"
    },
    "papermill": {
     "duration": 0.005305,
     "end_time": "2024-05-10T12:10:24.724701",
     "exception": false,
     "start_time": "2024-05-10T12:10:24.719396",
     "status": "completed"
    },
    "tags": []
   },
   "outputs": [
    {
     "data": {
      "text/plain": [
       "array(['Elevation', 'Soil_Type32', 'Horizontal_Distance_To_Roadways',\n",
       "       'Horizontal_Distance_To_Fire_Points'], dtype=object)"
      ]
     },
     "execution_count": 16,
     "metadata": {},
     "output_type": "execute_result"
    }
   ],
   "source": [
    "pipeline.feature_names_in_"
   ]
  },
  {
   "attachments": {},
   "cell_type": "markdown",
   "id": "1bc662fe",
   "metadata": {},
   "source": [
    "## Estructure categorical data options"
   ]
  },
  {
   "cell_type": "markdown",
   "id": "dbd41fce",
   "metadata": {},
   "source": [
    "### Feature names and categories"
   ]
  },
  {
   "cell_type": "code",
   "execution_count": 17,
   "id": "36064a3f",
   "metadata": {
    "execution": {
     "iopub.execute_input": "2024-05-10T12:10:24.726326Z",
     "iopub.status.busy": "2024-05-10T12:10:24.726220Z",
     "iopub.status.idle": "2024-05-10T12:10:24.727918Z",
     "shell.execute_reply": "2024-05-10T12:10:24.727719Z"
    },
    "papermill": {
     "duration": 0.003218,
     "end_time": "2024-05-10T12:10:24.728562",
     "exception": false,
     "start_time": "2024-05-10T12:10:24.725344",
     "status": "completed"
    },
    "tags": []
   },
   "outputs": [],
   "source": [
    "processor = pipeline.steps[0][1]\n",
    "encoder = processor.transformers_[0][1]\n",
    "\n",
    "feature_names = encoder.feature_names_in_\n",
    "feature_categories = encoder.categories_"
   ]
  },
  {
   "cell_type": "code",
   "execution_count": 18,
   "id": "5b7e51e2",
   "metadata": {},
   "outputs": [
    {
     "data": {
      "text/plain": [
       "array(['Soil_Type32'], dtype=object)"
      ]
     },
     "execution_count": 18,
     "metadata": {},
     "output_type": "execute_result"
    }
   ],
   "source": [
    "feature_names"
   ]
  },
  {
   "cell_type": "code",
   "execution_count": 19,
   "id": "efca8cf1",
   "metadata": {},
   "outputs": [
    {
     "data": {
      "text/plain": [
       "[array(['0', '1'], dtype=object)]"
      ]
     },
     "execution_count": 19,
     "metadata": {},
     "output_type": "execute_result"
    }
   ],
   "source": [
    "feature_categories"
   ]
  },
  {
   "cell_type": "code",
   "execution_count": 20,
   "id": "08b47251",
   "metadata": {
    "execution": {
     "iopub.execute_input": "2024-05-10T12:10:24.729997Z",
     "iopub.status.busy": "2024-05-10T12:10:24.729907Z",
     "iopub.status.idle": "2024-05-10T12:10:24.732005Z",
     "shell.execute_reply": "2024-05-10T12:10:24.731838Z"
    },
    "papermill": {
     "duration": 0.003534,
     "end_time": "2024-05-10T12:10:24.732624",
     "exception": false,
     "start_time": "2024-05-10T12:10:24.729090",
     "status": "completed"
    },
    "tags": []
   },
   "outputs": [
    {
     "data": {
      "text/plain": [
       "{'Soil_Type32': ['0', '1']}"
      ]
     },
     "execution_count": 20,
     "metadata": {},
     "output_type": "execute_result"
    }
   ],
   "source": [
    "options = {}\n",
    "for feature, categories in zip(feature_names, feature_categories):\n",
    "    options[feature] = categories.tolist()\n",
    "\n",
    "options"
   ]
  },
  {
   "attachments": {},
   "cell_type": "markdown",
   "id": "c57eb46b",
   "metadata": {},
   "source": [
    "### Export options to file"
   ]
  },
  {
   "cell_type": "code",
   "execution_count": 21,
   "id": "55f891ff",
   "metadata": {
    "execution": {
     "iopub.execute_input": "2024-05-10T12:10:24.738206Z",
     "iopub.status.busy": "2024-05-10T12:10:24.738117Z",
     "iopub.status.idle": "2024-05-10T12:10:24.739854Z",
     "shell.execute_reply": "2024-05-10T12:10:24.739686Z"
    },
    "papermill": {
     "duration": 0.003434,
     "end_time": "2024-05-10T12:10:24.740486",
     "exception": false,
     "start_time": "2024-05-10T12:10:24.737052",
     "status": "completed"
    },
    "tags": []
   },
   "outputs": [],
   "source": [
    "import json\n",
    "\n",
    "with open('../../artifacts/options_categorical.json', 'w') as file:\n",
    "    json.dump(options, file, indent=4)"
   ]
  },
  {
   "cell_type": "markdown",
   "id": "5df91767",
   "metadata": {},
   "source": [
    "## Estructure numerical data options"
   ]
  },
  {
   "cell_type": "markdown",
   "id": "d0dee132",
   "metadata": {},
   "source": [
    "### Feature names"
   ]
  },
  {
   "cell_type": "code",
   "execution_count": 22,
   "id": "1a8c03ef",
   "metadata": {},
   "outputs": [
    {
     "data": {
      "text/plain": [
       "['Elevation',\n",
       " 'Horizontal_Distance_To_Roadways',\n",
       " 'Horizontal_Distance_To_Fire_Points']"
      ]
     },
     "execution_count": 22,
     "metadata": {},
     "output_type": "execute_result"
    }
   ],
   "source": [
    "processor = pipeline.steps[0][1]\n",
    "encoder = processor.transformers_[1][1]\n",
    "\n",
    "feature_names = encoder.feature_names_in_.tolist()\n",
    "feature_names"
   ]
  },
  {
   "cell_type": "markdown",
   "id": "fbb9a405",
   "metadata": {},
   "source": [
    "### Average value by default"
   ]
  },
  {
   "cell_type": "code",
   "execution_count": 23,
   "id": "39e8d7cf",
   "metadata": {},
   "outputs": [
    {
     "data": {
      "text/html": [
       "<div>\n",
       "<style scoped>\n",
       "    .dataframe tbody tr th:only-of-type {\n",
       "        vertical-align: middle;\n",
       "    }\n",
       "\n",
       "    .dataframe tbody tr th {\n",
       "        vertical-align: top;\n",
       "    }\n",
       "\n",
       "    .dataframe thead th {\n",
       "        text-align: right;\n",
       "    }\n",
       "</style>\n",
       "<table border=\"1\" class=\"dataframe\">\n",
       "  <thead>\n",
       "    <tr style=\"text-align: right;\">\n",
       "      <th></th>\n",
       "      <th>Elevation</th>\n",
       "      <th>Soil_Type32</th>\n",
       "      <th>Horizontal_Distance_To_Roadways</th>\n",
       "      <th>Horizontal_Distance_To_Fire_Points</th>\n",
       "      <th>Cover_Type</th>\n",
       "    </tr>\n",
       "  </thead>\n",
       "  <tbody>\n",
       "    <tr>\n",
       "      <th>0</th>\n",
       "      <td>3351</td>\n",
       "      <td>0</td>\n",
       "      <td>3813</td>\n",
       "      <td>2271</td>\n",
       "      <td>1</td>\n",
       "    </tr>\n",
       "    <tr>\n",
       "      <th>1</th>\n",
       "      <td>2732</td>\n",
       "      <td>0</td>\n",
       "      <td>1082</td>\n",
       "      <td>912</td>\n",
       "      <td>2</td>\n",
       "    </tr>\n",
       "    <tr>\n",
       "      <th>2</th>\n",
       "      <td>2572</td>\n",
       "      <td>0</td>\n",
       "      <td>957</td>\n",
       "      <td>2191</td>\n",
       "      <td>2</td>\n",
       "    </tr>\n",
       "    <tr>\n",
       "      <th>3</th>\n",
       "      <td>2824</td>\n",
       "      <td>0</td>\n",
       "      <td>3223</td>\n",
       "      <td>6478</td>\n",
       "      <td>2</td>\n",
       "    </tr>\n",
       "    <tr>\n",
       "      <th>4</th>\n",
       "      <td>2529</td>\n",
       "      <td>0</td>\n",
       "      <td>1092</td>\n",
       "      <td>4983</td>\n",
       "      <td>2</td>\n",
       "    </tr>\n",
       "    <tr>\n",
       "      <th>...</th>\n",
       "      <td>...</td>\n",
       "      <td>...</td>\n",
       "      <td>...</td>\n",
       "      <td>...</td>\n",
       "      <td>...</td>\n",
       "    </tr>\n",
       "    <tr>\n",
       "      <th>116197</th>\n",
       "      <td>3299</td>\n",
       "      <td>0</td>\n",
       "      <td>2184</td>\n",
       "      <td>2173</td>\n",
       "      <td>2</td>\n",
       "    </tr>\n",
       "    <tr>\n",
       "      <th>116198</th>\n",
       "      <td>2589</td>\n",
       "      <td>0</td>\n",
       "      <td>1064</td>\n",
       "      <td>2430</td>\n",
       "      <td>2</td>\n",
       "    </tr>\n",
       "    <tr>\n",
       "      <th>116199</th>\n",
       "      <td>2935</td>\n",
       "      <td>0</td>\n",
       "      <td>3042</td>\n",
       "      <td>2326</td>\n",
       "      <td>2</td>\n",
       "    </tr>\n",
       "    <tr>\n",
       "      <th>116200</th>\n",
       "      <td>2882</td>\n",
       "      <td>0</td>\n",
       "      <td>3209</td>\n",
       "      <td>2809</td>\n",
       "      <td>2</td>\n",
       "    </tr>\n",
       "    <tr>\n",
       "      <th>116201</th>\n",
       "      <td>2991</td>\n",
       "      <td>0</td>\n",
       "      <td>5434</td>\n",
       "      <td>1504</td>\n",
       "      <td>2</td>\n",
       "    </tr>\n",
       "  </tbody>\n",
       "</table>\n",
       "<p>116202 rows × 5 columns</p>\n",
       "</div>"
      ],
      "text/plain": [
       "        Elevation  Soil_Type32  Horizontal_Distance_To_Roadways  \\\n",
       "0            3351            0                             3813   \n",
       "1            2732            0                             1082   \n",
       "2            2572            0                              957   \n",
       "3            2824            0                             3223   \n",
       "4            2529            0                             1092   \n",
       "...           ...          ...                              ...   \n",
       "116197       3299            0                             2184   \n",
       "116198       2589            0                             1064   \n",
       "116199       2935            0                             3042   \n",
       "116200       2882            0                             3209   \n",
       "116201       2991            0                             5434   \n",
       "\n",
       "        Horizontal_Distance_To_Fire_Points  Cover_Type  \n",
       "0                                     2271           1  \n",
       "1                                      912           2  \n",
       "2                                     2191           2  \n",
       "3                                     6478           2  \n",
       "4                                     4983           2  \n",
       "...                                    ...         ...  \n",
       "116197                                2173           2  \n",
       "116198                                2430           2  \n",
       "116199                                2326           2  \n",
       "116200                                2809           2  \n",
       "116201                                1504           2  \n",
       "\n",
       "[116202 rows x 5 columns]"
      ]
     },
     "execution_count": 23,
     "metadata": {},
     "output_type": "execute_result"
    }
   ],
   "source": [
    "import pandas as pd\n",
    "\n",
    "df = pd.read_csv('../../data/data.csv')\n",
    "df"
   ]
  },
  {
   "cell_type": "code",
   "execution_count": 24,
   "id": "098c233b",
   "metadata": {},
   "outputs": [],
   "source": [
    "options = {}\n",
    "\n",
    "for feature in feature_names:\n",
    "    options[feature] = df[feature].mean()"
   ]
  },
  {
   "cell_type": "markdown",
   "id": "8566b15d",
   "metadata": {},
   "source": [
    "### Export options to file"
   ]
  },
  {
   "cell_type": "code",
   "execution_count": 25,
   "id": "33c0e593",
   "metadata": {},
   "outputs": [],
   "source": [
    "import json\n",
    "\n",
    "with open('../../artifacts/options_numerical.json', 'w') as file:\n",
    "    json.dump(options, file, indent=4)"
   ]
  }
 ],
 "metadata": {
  "kernelspec": {
   "display_name": "work",
   "language": "python",
   "name": "python3"
  },
  "language_info": {
   "codemirror_mode": {
    "name": "ipython",
    "version": 3
   },
   "file_extension": ".py",
   "mimetype": "text/x-python",
   "name": "python",
   "nbconvert_exporter": "python",
   "pygments_lexer": "ipython3",
   "version": "3.11.4"
  },
  "papermill": {
   "default_parameters": {},
   "duration": 1.458762,
   "end_time": "2024-05-10T12:10:24.957490",
   "environment_variables": {},
   "exception": null,
   "input_path": "/Users/sota/Dropbox/2 Business/1 Datons/2 Areas/Courses/03 ML/materials/notebooks/50_Model Deployment/02_Web Calculator/B.ipynb",
   "output_path": "/Users/sota/Dropbox/2 Business/1 Datons/2 Areas/Courses/03 ML/materials/notebooks/50_Model Deployment/02_Web Calculator/B.ipynb",
   "parameters": {},
   "start_time": "2024-05-10T12:10:23.498728",
   "version": "2.5.0"
  }
 },
 "nbformat": 4,
 "nbformat_minor": 5
}
