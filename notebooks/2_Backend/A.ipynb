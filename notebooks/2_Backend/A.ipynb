{
 "cells": [
  {
   "cell_type": "markdown",
   "id": "827542c3",
   "metadata": {
    "papermill": {
     "duration": 0.003258,
     "end_time": "2024-05-10T12:09:25.629666",
     "exception": false,
     "start_time": "2024-05-10T12:09:25.626408",
     "status": "completed"
    },
    "tags": []
   },
   "source": [
    "# Portable models to calculate predictions anywhere"
   ]
  },
  {
   "cell_type": "markdown",
   "id": "2789431f",
   "metadata": {
    "papermill": {
     "duration": 0.001685,
     "end_time": "2024-05-10T12:09:25.633849",
     "exception": false,
     "start_time": "2024-05-10T12:09:25.632164",
     "status": "completed"
    },
    "tags": []
   },
   "source": [
    "## Input data to predict"
   ]
  },
  {
   "cell_type": "code",
   "execution_count": 1,
   "id": "c815c7b4",
   "metadata": {
    "execution": {
     "iopub.execute_input": "2024-05-10T12:09:25.637644Z",
     "iopub.status.busy": "2024-05-10T12:09:25.637395Z",
     "iopub.status.idle": "2024-05-10T12:09:25.640689Z",
     "shell.execute_reply": "2024-05-10T12:09:25.640367Z"
    },
    "papermill": {
     "duration": 0.006773,
     "end_time": "2024-05-10T12:09:25.641857",
     "exception": false,
     "start_time": "2024-05-10T12:09:25.635084",
     "status": "completed"
    },
    "tags": []
   },
   "outputs": [],
   "source": [
    "import pickle\n",
    "path = '../../artifacts/pipeline.pkl'\n",
    "\n",
    "with open(path, 'rb') as file:\n",
    "    pipeline = pickle.load(file)"
   ]
  },
  {
   "cell_type": "code",
   "execution_count": 2,
   "id": "ab28abe5",
   "metadata": {},
   "outputs": [],
   "source": [
    "form_data = {\n",
    "    'Elevation': 2547,\n",
    "    'Horizontal_Distance_To_Roadways': 242,\n",
    "    'Horizontal_Distance_To_Fire_Points': 845,\n",
    "    \"Soil_Type32\" : '0'\n",
    "}"
   ]
  },
  {
   "cell_type": "code",
   "execution_count": 3,
   "id": "269b02bf",
   "metadata": {},
   "outputs": [
    {
     "data": {
      "text/html": [
       "<div>\n",
       "<style scoped>\n",
       "    .dataframe tbody tr th:only-of-type {\n",
       "        vertical-align: middle;\n",
       "    }\n",
       "\n",
       "    .dataframe tbody tr th {\n",
       "        vertical-align: top;\n",
       "    }\n",
       "\n",
       "    .dataframe thead th {\n",
       "        text-align: right;\n",
       "    }\n",
       "</style>\n",
       "<table border=\"1\" class=\"dataframe\">\n",
       "  <thead>\n",
       "    <tr style=\"text-align: right;\">\n",
       "      <th></th>\n",
       "      <th>Elevation</th>\n",
       "      <th>Horizontal_Distance_To_Roadways</th>\n",
       "      <th>Horizontal_Distance_To_Fire_Points</th>\n",
       "      <th>Soil_Type32</th>\n",
       "    </tr>\n",
       "  </thead>\n",
       "  <tbody>\n",
       "    <tr>\n",
       "      <th>Arbol</th>\n",
       "      <td>2547</td>\n",
       "      <td>242</td>\n",
       "      <td>845</td>\n",
       "      <td>0</td>\n",
       "    </tr>\n",
       "  </tbody>\n",
       "</table>\n",
       "</div>"
      ],
      "text/plain": [
       "       Elevation  Horizontal_Distance_To_Roadways  \\\n",
       "Arbol       2547                              242   \n",
       "\n",
       "       Horizontal_Distance_To_Fire_Points Soil_Type32  \n",
       "Arbol                                 845           0  "
      ]
     },
     "execution_count": 3,
     "metadata": {},
     "output_type": "execute_result"
    }
   ],
   "source": [
    "import pandas as pd\n",
    "\n",
    "name = 'Arbol'\n",
    "df_input = pd.DataFrame(form_data, index=[name])\n",
    "df_input"
   ]
  },
  {
   "cell_type": "code",
   "execution_count": 4,
   "id": "92a7e916",
   "metadata": {},
   "outputs": [
    {
     "data": {
      "text/plain": [
       "array(['Elevation', 'Soil_Type32', 'Horizontal_Distance_To_Roadways',\n",
       "       'Horizontal_Distance_To_Fire_Points'], dtype=object)"
      ]
     },
     "execution_count": 4,
     "metadata": {},
     "output_type": "execute_result"
    }
   ],
   "source": [
    "pipeline.feature_names_in_"
   ]
  },
  {
   "cell_type": "code",
   "execution_count": 5,
   "id": "032eda6b",
   "metadata": {
    "execution": {
     "iopub.execute_input": "2024-05-10T12:09:25.644563Z",
     "iopub.status.busy": "2024-05-10T12:09:25.644424Z",
     "iopub.status.idle": "2024-05-10T12:09:25.651457Z",
     "shell.execute_reply": "2024-05-10T12:09:25.651117Z"
    },
    "papermill": {
     "duration": 0.009596,
     "end_time": "2024-05-10T12:09:25.652503",
     "exception": false,
     "start_time": "2024-05-10T12:09:25.642907",
     "status": "completed"
    },
    "tags": []
   },
   "outputs": [
    {
     "data": {
      "text/plain": [
       "array([2])"
      ]
     },
     "execution_count": 5,
     "metadata": {},
     "output_type": "execute_result"
    }
   ],
   "source": [
    "pipeline.predict(df_input)"
   ]
  },
  {
   "cell_type": "markdown",
   "id": "6e158b81",
   "metadata": {
    "papermill": {
     "duration": 0.001063,
     "end_time": "2024-05-10T12:09:25.654805",
     "exception": false,
     "start_time": "2024-05-10T12:09:25.653742",
     "status": "completed"
    },
    "tags": []
   },
   "source": [
    "## Load model from previous lesson"
   ]
  },
  {
   "cell_type": "code",
   "execution_count": 7,
   "id": "9544668a",
   "metadata": {},
   "outputs": [
    {
     "data": {
      "text/html": [
       "<div>\n",
       "<style scoped>\n",
       "    .dataframe tbody tr th:only-of-type {\n",
       "        vertical-align: middle;\n",
       "    }\n",
       "\n",
       "    .dataframe tbody tr th {\n",
       "        vertical-align: top;\n",
       "    }\n",
       "\n",
       "    .dataframe thead th {\n",
       "        text-align: right;\n",
       "    }\n",
       "</style>\n",
       "<table border=\"1\" class=\"dataframe\">\n",
       "  <thead>\n",
       "    <tr style=\"text-align: right;\">\n",
       "      <th></th>\n",
       "      <th>Elevation</th>\n",
       "      <th>Horizontal_Distance_To_Roadways</th>\n",
       "      <th>Horizontal_Distance_To_Fire_Points</th>\n",
       "      <th>Soil_Type32</th>\n",
       "    </tr>\n",
       "  </thead>\n",
       "  <tbody>\n",
       "    <tr>\n",
       "      <th>Arbol</th>\n",
       "      <td>2547</td>\n",
       "      <td>242</td>\n",
       "      <td>845</td>\n",
       "      <td>0</td>\n",
       "    </tr>\n",
       "  </tbody>\n",
       "</table>\n",
       "</div>"
      ],
      "text/plain": [
       "       Elevation  Horizontal_Distance_To_Roadways  \\\n",
       "Arbol       2547                              242   \n",
       "\n",
       "       Horizontal_Distance_To_Fire_Points Soil_Type32  \n",
       "Arbol                                 845           0  "
      ]
     },
     "execution_count": 7,
     "metadata": {},
     "output_type": "execute_result"
    }
   ],
   "source": [
    "df_input"
   ]
  },
  {
   "cell_type": "code",
   "execution_count": 8,
   "id": "caae07e1",
   "metadata": {
    "execution": {
     "iopub.execute_input": "2024-05-10T12:09:25.657804Z",
     "iopub.status.busy": "2024-05-10T12:09:25.657667Z",
     "iopub.status.idle": "2024-05-10T12:09:25.956169Z",
     "shell.execute_reply": "2024-05-10T12:09:25.955763Z"
    },
    "papermill": {
     "duration": 0.301244,
     "end_time": "2024-05-10T12:09:25.957234",
     "exception": false,
     "start_time": "2024-05-10T12:09:25.655990",
     "status": "completed"
    },
    "tags": []
   },
   "outputs": [
    {
     "data": {
      "text/plain": [
       "array([2])"
      ]
     },
     "execution_count": 8,
     "metadata": {},
     "output_type": "execute_result"
    }
   ],
   "source": [
    "probs = pipeline.predict(df_input)\n",
    "probs"
   ]
  },
  {
   "cell_type": "markdown",
   "id": "188b5fa7",
   "metadata": {
    "papermill": {
     "duration": 0.000923,
     "end_time": "2024-05-10T12:09:25.959371",
     "exception": false,
     "start_time": "2024-05-10T12:09:25.958448",
     "status": "completed"
    },
    "tags": []
   },
   "source": [
    "## Calculate the prediction"
   ]
  },
  {
   "cell_type": "code",
   "execution_count": null,
   "id": "300a9163",
   "metadata": {
    "execution": {
     "iopub.execute_input": "2024-05-10T12:09:25.961638Z",
     "iopub.status.busy": "2024-05-10T12:09:25.961483Z",
     "iopub.status.idle": "2024-05-10T12:09:25.965893Z",
     "shell.execute_reply": "2024-05-10T12:09:25.965703Z"
    },
    "papermill": {
     "duration": 0.006279,
     "end_time": "2024-05-10T12:09:25.966537",
     "exception": false,
     "start_time": "2024-05-10T12:09:25.960258",
     "status": "completed"
    },
    "tags": []
   },
   "outputs": [],
   "source": []
  },
  {
   "cell_type": "code",
   "execution_count": null,
   "id": "bd884953",
   "metadata": {
    "execution": {
     "iopub.execute_input": "2024-05-10T12:09:25.968372Z",
     "iopub.status.busy": "2024-05-10T12:09:25.968281Z",
     "iopub.status.idle": "2024-05-10T12:09:25.972016Z",
     "shell.execute_reply": "2024-05-10T12:09:25.971827Z"
    },
    "papermill": {
     "duration": 0.005389,
     "end_time": "2024-05-10T12:09:25.972648",
     "exception": false,
     "start_time": "2024-05-10T12:09:25.967259",
     "status": "completed"
    },
    "tags": []
   },
   "outputs": [],
   "source": []
  },
  {
   "cell_type": "code",
   "execution_count": null,
   "id": "c07624f5",
   "metadata": {
    "execution": {
     "iopub.execute_input": "2024-05-10T12:09:25.974503Z",
     "iopub.status.busy": "2024-05-10T12:09:25.974421Z",
     "iopub.status.idle": "2024-05-10T12:09:25.976123Z",
     "shell.execute_reply": "2024-05-10T12:09:25.975939Z"
    },
    "papermill": {
     "duration": 0.003403,
     "end_time": "2024-05-10T12:09:25.976796",
     "exception": false,
     "start_time": "2024-05-10T12:09:25.973393",
     "status": "completed"
    },
    "tags": []
   },
   "outputs": [],
   "source": []
  }
 ],
 "metadata": {
  "kernelspec": {
   "display_name": "work",
   "language": "python",
   "name": "python3"
  },
  "language_info": {
   "codemirror_mode": {
    "name": "ipython",
    "version": 3
   },
   "file_extension": ".py",
   "mimetype": "text/x-python",
   "name": "python",
   "nbconvert_exporter": "python",
   "pygments_lexer": "ipython3",
   "version": "3.11.4"
  },
  "papermill": {
   "default_parameters": {},
   "duration": 1.505661,
   "end_time": "2024-05-10T12:09:26.195262",
   "environment_variables": {},
   "exception": null,
   "input_path": "/Users/sota/Dropbox/2 Business/1 Datons/2 Areas/Courses/03 ML/materials/notebooks/50_Model Deployment/01_Export/B.ipynb",
   "output_path": "/Users/sota/Dropbox/2 Business/1 Datons/2 Areas/Courses/03 ML/materials/notebooks/50_Model Deployment/01_Export/B.ipynb",
   "parameters": {},
   "start_time": "2024-05-10T12:09:24.689601",
   "version": "2.5.0"
  }
 },
 "nbformat": 4,
 "nbformat_minor": 5
}
